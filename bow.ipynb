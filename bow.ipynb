{
 "cells": [
  {
   "cell_type": "code",
   "execution_count": null,
   "metadata": {},
   "outputs": [],
   "source": [
    "import pandas as pd\n",
    "from sklearn.feature_extraction.text import TfidfVectorizer\n",
    "\n",
    "from sklearn.model_selection import cross_validate, KFold\n",
    "\n",
    "from sklearn.model_selection import train_test_split\n",
    "\n",
    "from sklearn.svm import SVC\n",
    "from sklearn.naive_bayes import MultinomialNB\n",
    "from sklearn.tree import DecisionTreeClassifier\n",
    "from sklearn.linear_model import LogisticRegression\n",
    "from sklearn.ensemble import RandomForestClassifier, GradientBoostingClassifier\n",
    "\n",
    "from utils import train_test"
   ]
  },
  {
   "attachments": {},
   "cell_type": "markdown",
   "metadata": {},
   "source": [
    "## Preprocess data"
   ]
  },
  {
   "cell_type": "code",
   "execution_count": null,
   "metadata": {},
   "outputs": [],
   "source": [
    "df = pd.read_feather('processed.feather')\n",
    "print(f\"Data frame shape: {df.shape}\")"
   ]
  },
  {
   "cell_type": "code",
   "execution_count": null,
   "metadata": {},
   "outputs": [],
   "source": [
    "exclude_cols = [k for k, v in df['Category'].value_counts().items() if v < 500]\n",
    "df = df.dropna()\n",
    "data = df[~df['Category'].isin(exclude_cols)].copy()\n",
    "train_df, test_df = train_test_split(data, test_size=0.2, random_state=42, shuffle=True)\n",
    "\n",
    "print(f\"train_df shape: {train_df.shape}\")\n",
    "print(f\"train_df shape: {test_df.shape}\")"
   ]
  },
  {
   "cell_type": "markdown",
   "metadata": {},
   "source": [
    "## Train - Test"
   ]
  },
  {
   "cell_type": "code",
   "execution_count": null,
   "metadata": {},
   "outputs": [],
   "source": [
    "feature_col = 'Content'\n",
    "\n",
    "X_train = train_df[feature_col]\n",
    "X_test = test_df[feature_col]\n",
    "\n",
    "y_train = train_df['Category']\n",
    "y_test = test_df['Category']\n",
    "\n",
    "\n",
    "vectorizer = TfidfVectorizer()\n",
    "\n",
    "X_train_vectorized = vectorizer.fit_transform(X_train)\n",
    "X_test_vectorized = vectorizer.transform(X_test)\n",
    "\n",
    "print(X_train_vectorized.shape, X_test_vectorized.shape)"
   ]
  },
  {
   "cell_type": "markdown",
   "metadata": {},
   "source": [
    "### Experiments"
   ]
  },
  {
   "cell_type": "code",
   "execution_count": null,
   "metadata": {},
   "outputs": [],
   "source": [
    "# Title\n",
    "model = MultinomialNB()\n",
    "\n",
    "kfold = KFold(n_splits=3)\n",
    "\n",
    "scores = cross_validate(model, X_train_vectorized, y_train, cv=kfold, scoring=['f1_weighted', 'precision_weighted', 'recall_weighted', 'accuracy'], n_jobs=-1, verbose=2)\n",
    "scores_df = pd.DataFrame(scores).T\n",
    "scores_df['mean'] = scores_df.mean(axis=1)\n",
    "scores_df"
   ]
  },
  {
   "cell_type": "code",
   "execution_count": null,
   "metadata": {},
   "outputs": [],
   "source": [
    "# Title\n",
    "model = DecisionTreeClassifier()\n",
    "\n",
    "kfold = KFold(n_splits=3)\n",
    "\n",
    "scores = cross_validate(model, X_train_vectorized, y_train, cv=kfold, scoring=['f1_weighted', 'precision_weighted', 'recall_weighted', 'accuracy'], n_jobs=-1, verbose=2)\n",
    "scores_df = pd.DataFrame(scores).T\n",
    "scores_df['mean'] = scores_df.mean(axis=1)\n",
    "scores_df"
   ]
  },
  {
   "cell_type": "code",
   "execution_count": null,
   "metadata": {},
   "outputs": [],
   "source": [
    "# Title\n",
    "model = RandomForestClassifier()\n",
    "\n",
    "kfold = KFold(n_splits=3)\n",
    "\n",
    "scores = cross_validate(model, X_train_vectorized, y_train, cv=kfold, scoring=['f1_weighted', 'precision_weighted', 'recall_weighted', 'accuracy'], n_jobs=-1, verbose=2)\n",
    "scores_df = pd.DataFrame(scores).T\n",
    "scores_df['mean'] = scores_df.mean(axis=1)\n",
    "scores_df"
   ]
  },
  {
   "cell_type": "code",
   "execution_count": null,
   "metadata": {},
   "outputs": [],
   "source": [
    "# Title\n",
    "model = GradientBoostingClassifier()\n",
    "\n",
    "kfold = KFold(n_splits=3)\n",
    "\n",
    "scores = cross_validate(model, X_train_vectorized, y_train, cv=kfold, scoring=['f1_weighted', 'precision_weighted', 'recall_weighted', 'accuracy'], n_jobs=-1, verbose=2)\n",
    "scores_df = pd.DataFrame(scores).T\n",
    "scores_df['mean'] = scores_df.mean(axis=1)\n",
    "scores_df"
   ]
  },
  {
   "cell_type": "code",
   "execution_count": null,
   "metadata": {},
   "outputs": [],
   "source": [
    "# Title\n",
    "model = LogisticRegression(max_iter=1000)\n",
    "\n",
    "kfold = KFold(n_splits=3)\n",
    "\n",
    "scores = cross_validate(model, X_train_vectorized, y_train, cv=kfold, scoring=['f1_weighted', 'precision_weighted', 'recall_weighted', 'accuracy'], n_jobs=-1, verbose=2)\n",
    "scores_df = pd.DataFrame(scores).T\n",
    "scores_df['mean'] = scores_df.mean(axis=1)\n",
    "scores_df"
   ]
  },
  {
   "cell_type": "code",
   "execution_count": null,
   "metadata": {},
   "outputs": [],
   "source": [
    "model = LogisticRegression()\n",
    "train_test(model, X_train_vectorized, X_test_vectorized, y_train, y_test)"
   ]
  },
  {
   "cell_type": "code",
   "execution_count": null,
   "metadata": {},
   "outputs": [],
   "source": [
    "# Title\n",
    "model = SVC()\n",
    "\n",
    "kfold = KFold(n_splits=3)\n",
    "\n",
    "scores = cross_validate(model, X_train_vectorized, y_train, cv=kfold, scoring=['f1_weighted', 'precision_weighted', 'recall_weighted', 'accuracy'], n_jobs=-1, verbose=2)\n",
    "scores_df = pd.DataFrame(scores).T\n",
    "scores_df['mean'] = scores_df.mean(axis=1)\n",
    "scores_df"
   ]
  }
 ],
 "metadata": {
  "kernelspec": {
   "display_name": "torch",
   "language": "python",
   "name": "python3"
  },
  "language_info": {
   "codemirror_mode": {
    "name": "ipython",
    "version": 3
   },
   "file_extension": ".py",
   "mimetype": "text/x-python",
   "name": "python",
   "nbconvert_exporter": "python",
   "pygments_lexer": "ipython3",
   "version": "3.10.6"
  },
  "orig_nbformat": 4
 },
 "nbformat": 4,
 "nbformat_minor": 2
}
