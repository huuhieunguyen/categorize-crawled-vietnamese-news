{
 "cells": [
  {
   "cell_type": "code",
   "execution_count": 1,
   "metadata": {},
   "outputs": [],
   "source": [
    "import pandas as pd\n",
    "from sklearn.model_selection import train_test_split\n",
    "import os\n"
   ]
  },
  {
   "cell_type": "code",
   "execution_count": 2,
   "metadata": {},
   "outputs": [
    {
     "data": {
      "text/plain": [
       "(33311, 5)"
      ]
     },
     "execution_count": 2,
     "metadata": {},
     "output_type": "execute_result"
    }
   ],
   "source": [
    "df = pd.read_csv('./vnexpress_crawled.csv')\n",
    "df.shape"
   ]
  },
  {
   "cell_type": "code",
   "execution_count": 3,
   "metadata": {},
   "outputs": [],
   "source": [
    "# Extract the Category attribute paired with Title, Description, and Content\n",
    "title_df = df[['Category', 'Title']]\n",
    "description_df = df[['Category', 'Description']]\n",
    "content_df = df[['Category', 'Content']]"
   ]
  },
  {
   "attachments": {},
   "cell_type": "markdown",
   "metadata": {},
   "source": [
    "## Split the data into train, test and validate\n"
   ]
  },
  {
   "cell_type": "code",
   "execution_count": 4,
   "metadata": {},
   "outputs": [],
   "source": [
    "# Function to Split the data into train and test (8:2)\n",
    "def train_test_split_data(data):\n",
    "    train_data, test_data = train_test_split(data, test_size=0.2, random_state=42, shuffle=True)\n",
    "    return train_data, test_data\n",
    "\n",
    "# Function to Split the train data into train and validate (9:1)\n",
    "def train_validate_split_data(train_data):\n",
    "    train_data, validate_data = train_test_split(train_data, test_size=0.1, random_state=42, shuffle=True)\n",
    "    return train_data, validate_data"
   ]
  },
  {
   "cell_type": "code",
   "execution_count": 5,
   "metadata": {},
   "outputs": [],
   "source": [
    "# Split the data into train and test\n",
    "title_train, title_test = train_test_split_data(title_df)\n",
    "description_train, description_test = train_test_split_data(description_df)\n",
    "content_train, content_test = train_test_split_data(content_df)\n",
    "\n",
    "# Split the train data into train and validate\n",
    "title_train, title_validate = train_validate_split_data(title_train)\n",
    "description_train, description_validate = train_validate_split_data(description_train)\n",
    "content_train, content_validate = train_validate_split_data(content_train)\n"
   ]
  },
  {
   "attachments": {},
   "cell_type": "markdown",
   "metadata": {},
   "source": [
    "## Create the directory structure\n"
   ]
  },
  {
   "cell_type": "code",
   "execution_count": 7,
   "metadata": {},
   "outputs": [],
   "source": [
    "def create_directory(output_dir, subdir, split_dir):\n",
    "    path = os.path.join(output_dir, subdir, split_dir)\n",
    "    os.makedirs(path, exist_ok=True)\n",
    "    return path"
   ]
  },
  {
   "cell_type": "code",
   "execution_count": 8,
   "metadata": {},
   "outputs": [],
   "source": [
    "path_sets = set()\n",
    "\n",
    "output_dir = './'\n",
    "subdir = \"subdirectory\"\n",
    "split_dir = \"split_directory\"\n",
    "\n",
    "for subdir in ['title', 'description', 'content']:\n",
    "    for split_dir in ['train', 'test', 'validate']:\n",
    "        dir_path = create_directory(output_dir, subdir, split_dir)\n",
    "        path_sets.add(dir_path)"
   ]
  },
  {
   "attachments": {},
   "cell_type": "markdown",
   "metadata": {},
   "source": [
    "## Write splitted data into text file\n"
   ]
  },
  {
   "cell_type": "code",
   "execution_count": 9,
   "metadata": {},
   "outputs": [],
   "source": [
    "def write_data_to_file(category_file, input_file, data):\n",
    "    with open(category_file, 'w', encoding='utf-8') as f:\n",
    "        f.write('\\n'.join(data['Category'].astype(str)))\n",
    "    with open(input_file, 'w', encoding='utf-8') as f:\n",
    "        if 'Title' in data.columns:\n",
    "            f.write('\\n'.join(data['Title'].astype(str)))\n",
    "        elif 'Description' in data.columns:\n",
    "            f.write('\\n'.join(data['Description'].astype(str)))\n",
    "        elif 'Content' in data.columns:\n",
    "            f.write('\\n'.join(data['Content'].astype(str)))\n",
    "\n",
    "# Path to the root folder\n",
    "output_dir = './'\n",
    "\n",
    "# write the data into text files\n",
    "write_data_to_file(output_dir + 'title/validate/category.txt', output_dir + 'title/validate/input.txt', title_validate)\n",
    "write_data_to_file(output_dir + 'title/test/category.txt', output_dir + 'title/test/input.txt', title_test)\n",
    "write_data_to_file(output_dir + 'title/train/category.txt', output_dir + 'title/train/input.txt', title_train)\n",
    "\n",
    "write_data_to_file(output_dir + 'description/validate/category.txt', output_dir + 'description/validate/input.txt', description_validate)\n",
    "write_data_to_file(output_dir + 'description/test/category.txt', output_dir + 'description/test/input.txt', description_test)\n",
    "write_data_to_file(output_dir + 'description/train/category.txt', output_dir + 'description/train/input.txt', description_train)\n",
    "\n",
    "write_data_to_file(output_dir + 'content/validate/category.txt', output_dir + 'content/validate/input.txt', content_validate)\n",
    "write_data_to_file(output_dir + 'content/test/category.txt', output_dir + 'content/test/input.txt', content_test)\n",
    "write_data_to_file(output_dir + 'content/train/category.txt', output_dir + 'content/train/input.txt', content_train)\n"
   ]
  }
 ],
 "metadata": {
  "kernelspec": {
   "display_name": "base",
   "language": "python",
   "name": "python3"
  },
  "language_info": {
   "codemirror_mode": {
    "name": "ipython",
    "version": 3
   },
   "file_extension": ".py",
   "mimetype": "text/x-python",
   "name": "python",
   "nbconvert_exporter": "python",
   "pygments_lexer": "ipython3",
   "version": "3.10.9"
  },
  "orig_nbformat": 4
 },
 "nbformat": 4,
 "nbformat_minor": 2
}
